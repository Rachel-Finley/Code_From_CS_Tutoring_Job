{
 "cells": [
  {
   "cell_type": "markdown",
   "metadata": {
    "id": "itymntdYnh8p"
   },
   "source": [
    "_________________________________________________\n",
    "# **This code is meant to serve as both practice, and examples of how to read, write, and append data to files. It is a very useful skill, and is a foundational to be able work with other people's data. Along the way, some other topics I think are useful may be covered.**\n",
    "_________________________________________________\n",
    "# **These may include but are not limited to:**\n",
    "# *   **The Usage of F-Strings**\n",
    "# *   **Functions Review**\n",
    "# *   **Strings Review**\n",
    "# *   **Lists Review**\n",
    "# *   **Indexing Review for both Strings and Lists**\n",
    "# *   **Saving a List to a File**\n",
    "# *   **The Usage of Enumerate**\n",
    "# *   **Dictionaries Review**\n",
    "# *   **Conditionals Review**\n",
    "# *   **Saving a Dictionary to a File**\n",
    "# *   **While Loops Review**\n",
    "_________________________________________________\n",
    "\n"
   ]
  },
  {
   "cell_type": "markdown",
   "metadata": {
    "id": "qT3nWaHVckSA"
   },
   "source": [
    "_________________________________________________\n",
    "## **Practice Problem 1:** I want you open the file named \"tutoring.txt\", and then print each line. \n",
    "_________________________________________________\n",
    "### *Hint: Be careful of the paramater that you use to decide whether you are reading, writing, or appending.*\n",
    "_________________________________________________"
   ]
  },
  {
   "cell_type": "code",
   "execution_count": 1,
   "metadata": {
    "colab": {
     "base_uri": "https://localhost:8080/"
    },
    "id": "tSPBZshsa-G0",
    "outputId": "8d89f636-773f-4f2b-866e-c6f7c30b9931"
   },
   "outputs": [
    {
     "name": "stdout",
     "output_type": "stream",
     "text": [
      "This is a test file\n",
      "\n",
      "lets get the data out\n",
      "\n",
      "I hope that you enjoy python\n",
      "\n",
      "enjoy your experience\n"
     ]
    }
   ],
   "source": [
    "# Your code below\n",
    "\n",
    "with open(\"tutoring.txt\", \"r\") as f:\n",
    "  for line in f:\n",
    "    print (line)"
   ]
  },
  {
   "cell_type": "markdown",
   "metadata": {
    "id": "xulH6mmfnGiL"
   },
   "source": [
    "_________________________________________________\n",
    "### ***Rachel's Notes:***\n",
    "#### **10/10 grade on this first one. Anytime you forgot to put syntax, you quickly noticed and made the nessecary adjustments.**\n",
    "_________________________________________________\n",
    "### *Hint: Be careful of the paramater that you use to decide whether you are reading, writing, or appending.*\n",
    "_________________________________________________"
   ]
  },
  {
   "cell_type": "markdown",
   "metadata": {
    "id": "a2edQH9OmdNU"
   },
   "source": [
    "_________________________________________________\n",
    "## **Practice Problem 2:** I want you to write a new line using the variable test_string, which I have defined, to the end of the file \"tutoring.txt\"\n",
    "_________________________________________________"
   ]
  },
  {
   "cell_type": "code",
   "execution_count": 2,
   "metadata": {
    "id": "erO20EJScRM0"
   },
   "outputs": [],
   "source": [
    "test_string = \"this is an addition\"\n",
    "\n",
    "# Your code below\n",
    "\n",
    "with open(\"tutoring.txt\", \"w\") as f:\n",
    "  f.write(\"test_string\")"
   ]
  },
  {
   "cell_type": "code",
   "execution_count": 3,
   "metadata": {
    "colab": {
     "base_uri": "https://localhost:8080/"
    },
    "id": "-CJxOAmSnhmf",
    "outputId": "f057020a-2cdb-4722-8f93-36e6b512e6c3"
   },
   "outputs": [
    {
     "name": "stdout",
     "output_type": "stream",
     "text": [
      "test_string\n"
     ]
    }
   ],
   "source": [
    "# Print new contents of file\n",
    "with open(\"tutoring.txt\", \"r\") as f:\n",
    "  for line in f:\n",
    "    print (line)"
   ]
  },
  {
   "cell_type": "markdown",
   "metadata": {
    "id": "ii80H74yqPb-"
   },
   "source": [
    "_________________________________________________\n",
    "### Solution:\n",
    "_________________________________________________"
   ]
  },
  {
   "cell_type": "code",
   "execution_count": 4,
   "metadata": {
    "id": "UtQ8sqQyqNW_"
   },
   "outputs": [],
   "source": [
    "test_string = \"this is an addition\"\n",
    "\n",
    "# Tutor's solution\n",
    "\n",
    "with open(\"tutoring.txt\", \"a\") as f:\n",
    "  f.write(\"\\n\" + test_string)"
   ]
  },
  {
   "cell_type": "code",
   "execution_count": 5,
   "metadata": {
    "colab": {
     "base_uri": "https://localhost:8080/"
    },
    "id": "O4mzmbkinltq",
    "outputId": "fe9963cb-fe7b-4c54-e2e2-0ec65df46ec9"
   },
   "outputs": [
    {
     "name": "stdout",
     "output_type": "stream",
     "text": [
      "test_string\n",
      "\n",
      "this is an addition\n"
     ]
    }
   ],
   "source": [
    "# Print new contents of file\n",
    "with open(\"tutoring.txt\", \"r\") as f:\n",
    "  for line in f:\n",
    "    print (line)"
   ]
  },
  {
   "cell_type": "markdown",
   "metadata": {
    "id": "IMZ_nDS2qh5B"
   },
   "source": [
    "_________________________________________________\n",
    "### ***Rachel's Notes:***\n",
    "#### 5/10 grade on this question. There are two reasons that I have referenced to make the point deduction.\n",
    "*   #### The first reason is because you used \"w\" instead of \"a\" as a parameter for your 'with open' statement, and, since \"w\" rewrites \"over the file\", you deleted the contents of the file when you called the write statement. I made the same mistakes myself when taking this course\n",
    "*   #### The second reason is because when you called the write statement, you wrapped the variable name in quotations. What that did was save the text \"test_string\" instead of saving the string that had been saved to the variable test_string. Also a mistake I've made countless times. \n",
    "*   #### Side Note: We want to save each new user defined string onto a new line of the file, so we concactenate a \"\\n\" onto the front of our string-containing variable.\n",
    "_________________________________________________\n",
    "\n"
   ]
  },
  {
   "cell_type": "markdown",
   "metadata": {
    "id": "i7DcOPCJd4I2"
   },
   "source": [
    "_________________________________________________\n",
    "## **Practice Problem 3:** Transform the code from problem 1 into a function so that we can re-use it in cells down below. I want the function to have a parameter that I can use to call the function with a variable of my choosing. \n",
    "_________________________________________________\n",
    "### *Hint: the parameter you use, whatever you decide to name it, will become a variable when you are accessing it inside of your function.*\n",
    "_________________________________________________\n",
    "### *Additional Topics:* *Functions Review and the Usage of F-strings.\n",
    "_________________________________________________\n"
   ]
  },
  {
   "cell_type": "code",
   "execution_count": 10,
   "metadata": {
    "id": "ER9y1kBzdwM_"
   },
   "outputs": [],
   "source": [
    "# Your code below\n",
    "\n",
    "def print_file_lines(file):\n",
    "    with open(file, \"r\") as f:\n",
    "    for line in f:\n",
    "        print(line)"
   ]
  },
  {
   "cell_type": "code",
   "execution_count": 7,
   "metadata": {
    "colab": {
     "base_uri": "https://localhost:8080/"
    },
    "id": "6rf96Wfyfm0B",
    "outputId": "65316bed-753c-4e86-ab5f-afa2159b3e01"
   },
   "outputs": [
    {
     "name": "stdout",
     "output_type": "stream",
     "text": [
      "test_string\n",
      "\n",
      "this is an addition\n"
     ]
    }
   ],
   "source": [
    "filename = \"tutoring.txt\"\n",
    "print_file_lines(filename)"
   ]
  },
  {
   "cell_type": "markdown",
   "metadata": {
    "id": "KMnJf31yseRM"
   },
   "source": [
    "_________________________________________________\n",
    "#### *Rachel's Notes:*\n",
    "_________________________________________________\n",
    "#### I don't have a grade for this one since we worked on it together due to a lack of time. In general, you have the right thinking about these problems. \n",
    "\n",
    "#### That being said, I used this problem as well to do some review with functions and I noticed a couple of patterns repeated from our last session worth addressing to help build your confidence with functions:\n",
    "*   #### Firstly, there was the use of the pass statement as a parameter. Pass is used as a **very temporary** placeholder when you want the compliler to ignore a step in your code. For example, you can put a pass statement after a for-loop so that the compliler ignores what happens within it.\n",
    "\n",
    "```\n",
    "_________________________________________________\n",
    "for i in range(0, 1):\n",
    "    pass\n",
    "_________________________________________________\n",
    "This code will not generate any output, *but* it also won't throw an error. \n",
    "However, if there was nothing indented after the for-loop, your compiler \n",
    "will give you can error\n",
    "_________________________________________________\n",
    "```\n",
    "\n",
    "*   #### Next, I want you to imagine that parameters are just placeholder names for a variable we will use inside of our function whenever we call it. I thought it would be helpful to break down a few scenarios. For the sake of our journey, we can break down functions into four types: \n",
    "   *   functions that require a variable to be passed to them but don't return an output *ie\\) Practice Problem 3*\n",
    "   *   functions that require a variable to be passed to them that return an output *ie\\) Example Problem 4*\n",
    "   *   functions that don't require a variable to be passed to them and don't return and output. *ie\\) Example Problem 2*\n",
    "   * functions that don't require a variable to be passed to them that return an output.    *ie\\) Example Problem 3*\n",
    "*   #### The second thing I noticed, which is intrinsically linked to the first, is your utilization of your parameter variables within a function. When you are defining functions, remember that the parameter variable is like a placeholder name that you use to make the function universal. That way, regardless of the variable that we use when we call our function, the same exact steps happen. An important thing to note here, whenever we are in the process of writing the function, is to use the variable name that you set as your parameter when you are constructing code that will interact with it.\n",
    "_________________________________________________\n",
    "#### *I'll give an example below of why its called a parameter that may help clarify this issue a little bit*\n",
    "_________________________________________________\n",
    "\n"
   ]
  },
  {
   "cell_type": "code",
   "execution_count": 8,
   "metadata": {
    "colab": {
     "base_uri": "https://localhost:8080/"
    },
    "id": "UvApHe-ifsWC",
    "outputId": "2e92c703-a0d7-4972-da2f-a7b709522db6"
   },
   "outputs": [
    {
     "name": "stdout",
     "output_type": "stream",
     "text": [
      "You can do this\n",
      "\n",
      "practice\n",
      "\n",
      "practice\n",
      "\n",
      "practice\n"
     ]
    }
   ],
   "source": [
    "# Example to help explain function parameters\n",
    "\n",
    "filename_2 = \"file_1.txt\"\n",
    "'''\n",
    "   Notice how we set the our parameter called \"file\" to be equal\n",
    "   to the variable called \"filename_2\" provided above. Here we have\n",
    "   set the \"parameter\" equal to a \"variable\". I hope this helps \n",
    "   clear it up for you.\n",
    "'''\n",
    "print_file_lines(file = filename_2)"
   ]
  },
  {
   "cell_type": "markdown",
   "metadata": {
    "id": "nnplVjZPNIbA"
   },
   "source": [
    "_________________________________________________\n",
    "#### *And the beatiful thing about having written this function, is that whenever we want to print all of the lines of our file again, all we have to do is run our function, which already contains all the steps nessecary to acheive our desired outcome.*\n",
    "_________________________________________________"
   ]
  },
  {
   "cell_type": "markdown",
   "metadata": {
    "id": "WS17MrWMNe0T"
   },
   "source": [
    "_________________________________________________\n",
    "## **Example Problem 1:** Create a function that takes a user defined input and appends it to the file as a new line.\n",
    "_________________________________________________\n",
    "### *Additional Topics:* *Functions Review and the Usage of F-Strings*\n",
    "_________________________________________________"
   ]
  },
  {
   "cell_type": "code",
   "execution_count": 9,
   "metadata": {
    "id": "ZGmI479CgwYQ"
   },
   "outputs": [],
   "source": [
    "def append_file_lines(file):\n",
    "    # Save a user's input to a variable\n",
    "    new_line = input(\"User Input: \")\n",
    "\n",
    "    # Open file saved to our file parameter.\n",
    "    with open(file, \"a\") as f:\n",
    "        # Save user's variable to the file, \n",
    "        # starting with a new line.\n",
    "        f.write(\"\\n\" + new_line)"
   ]
  },
  {
   "cell_type": "markdown",
   "metadata": {
    "id": "I4tOCCwGRECT"
   },
   "source": [
    "_________________________________________________\n",
    "### *Side Note:* There is another way to include variables within your strings, they are called \"f-strings\". The usage is pretty straightforward and elegant in the sense that it is easy to understand what's going on. In our case, we want to just add a new line to the beginning of the string we got from the user at the beginning of the function when we go to append this data to the file. Featured below would be the same solution to writing the line to the file, but instead of using concactenation, we are using this new concept: \"f-strings\". Note, to use them is as simple as including an f before the start of your string, and then wrapping whatever variable in curly braces.\n",
    "\n",
    "  #### **For example:**\n",
    "    _________________________________________________\n",
    "    my_string = \"World\"\n",
    "    print(f\"Hello {my_string})\n",
    "\n",
    "    Output:\n",
    "    Hello World\n",
    "    _________________________________________________\n",
    "\n",
    "  #### *To utilize an f-string in our problem would be as simple as the code below:*\n",
    "    _________________________________________________\n",
    "    with open(file, \"a\") as f:\n",
    "       f.write(f\"\\n{new_line}\")\n",
    "    _________________________________________________\n",
    "_________________________________________________"
   ]
  },
  {
   "cell_type": "markdown",
   "metadata": {
    "id": "H4kUsC5USY7A"
   },
   "source": [
    "_________________________________________________\n",
    "## **Example Problem 2:** Now, combine the functions from Practice Problem 3, and Example Problem 1 inside of a function called main. The goal is to save a user's input to a file, and then display the changes.\n",
    "_________________________________________________\n",
    "### *Additional Topics:* *Functions Review*\n",
    "_________________________________________________"
   ]
  },
  {
   "cell_type": "code",
   "execution_count": 160,
   "metadata": {
    "id": "mKQR1Ze9gj0P"
   },
   "outputs": [],
   "source": [
    "def main():\n",
    "    # Define the variable that connects to our file\n",
    "    filename_2 = \"file_1.txt\"\n",
    "\n",
    "    # Use that variable as the parameter in each function\n",
    "    # to acheive the goal of the problem.\n",
    "    append_file_lines(file = filename_2)\n",
    "    print_file_lines(file = filename_2)"
   ]
  },
  {
   "cell_type": "code",
   "execution_count": 161,
   "metadata": {
    "colab": {
     "base_uri": "https://localhost:8080/"
    },
    "id": "Hjw-EAJRgujG",
    "outputId": "68e09d0c-6e05-4dd9-f5a9-c28dc3c9943b"
   },
   "outputs": [
    {
     "name": "stdout",
     "output_type": "stream",
     "text": [
      "User Input: Python is a popular language for web and software development\n",
      "You can do this\n",
      "\n",
      "practice\n",
      "\n",
      "practice\n",
      "\n",
      "practice\n",
      "\n",
      "Python is a popular language for web and software development\n"
     ]
    }
   ],
   "source": [
    "main()"
   ]
  },
  {
   "cell_type": "markdown",
   "metadata": {
    "id": "dkL0iLZETMAf"
   },
   "source": [
    "_________________________________________________\n",
    "## **Example Problem 3:** Define a function that reutrns a list which contains 5 user-defined strings.\n",
    "_________________________________________________\n",
    "### *Additional Topics:* *Lists Review, Strings Review, and Functions Review*\n",
    "_________________________________________________"
   ]
  },
  {
   "cell_type": "code",
   "execution_count": 162,
   "metadata": {
    "id": "yBaVcYemkTyP"
   },
   "outputs": [],
   "source": [
    "def create_list_of_strings():\n",
    "    # Initialize list variable so that we can use .append()\n",
    "    user_defined_list = []\n",
    "\n",
    "    # Iterate from 0-4\n",
    "    for index in range(0, 5):\n",
    "        user_input = input(f\"Entry {index + 1}: \") # Example use of f-strings\n",
    "    \n",
    "        # Append user_input to list\n",
    "        user_defined_list.append(user_input)\n",
    "  \n",
    "    # Return the list **OUTSIDE** of the for-loop\n",
    "    return user_defined_list"
   ]
  },
  {
   "cell_type": "markdown",
   "metadata": {
    "id": "JFQE-jTtd2V7"
   },
   "source": [
    "_________________________________________________\n",
    "#### **Some Tests:**\n",
    "_________________________________________________"
   ]
  },
  {
   "cell_type": "code",
   "execution_count": 163,
   "metadata": {
    "colab": {
     "base_uri": "https://localhost:8080/"
    },
    "id": "qY8tqyX_ZoGY",
    "outputId": "17f7ee24-96cd-4274-9d42-7a7a59cffdd3"
   },
   "outputs": [
    {
     "name": "stdout",
     "output_type": "stream",
     "text": [
      "Entry 1: Python is a popular language for web and software development\n",
      "Entry 2: because you can create complex, multi-protocol applications while maintaining concise, readable syntax.\n",
      "Entry 3: In fact, some of the most popular applications were built with Python.\n",
      "Entry 4: Plus, Python’s open source community provides developers\n",
      "Entry 5: with an extensive amount of reusable code, frameworks, and support.\n"
     ]
    }
   ],
   "source": [
    "# Testing our Function\n",
    "user_list = create_list_of_strings()"
   ]
  },
  {
   "cell_type": "code",
   "execution_count": 164,
   "metadata": {
    "colab": {
     "base_uri": "https://localhost:8080/"
    },
    "id": "QQ3y2S3eZtyw",
    "outputId": "6b3dd43a-ebf8-4fc8-b9a0-66463d2c390a"
   },
   "outputs": [
    {
     "name": "stdout",
     "output_type": "stream",
     "text": [
      "Python is a popular language for web and software development\n",
      "because you can create complex, multi-protocol applications while maintaining concise, readable syntax.\n",
      "In fact, some of the most popular applications were built with Python.\n",
      "Plus, Python’s open source community provides developers\n",
      "with an extensive amount of reusable code, frameworks, and support.\n"
     ]
    }
   ],
   "source": [
    "# Checking the results\n",
    "for item in user_list:\n",
    "    print(item)"
   ]
  },
  {
   "cell_type": "markdown",
   "metadata": {
    "id": "JOk3QUJ-anXt"
   },
   "source": [
    "_________________________________________________\n",
    "#### *Rachel's Notes:* A couple of important things to note here:\n",
    "\n",
    "\n",
    "*   #### First, the purpose of the {index + 1} here is to show our users the count of their input. \n",
    "    * #### Note: you also could have use concatenation here, but then you'd need to wrap parenthesis around (index + 1) or you would get an error since the compiler would think you're also trying to combine int and str data types. But, you can only concatenate strings with other strings, or perform mathematical operations between floats and ints. F-strings are useful because they perform the nessecary coversions for us, and eliminate the need for clunky code such as what is featured below:\n",
    "\n",
    "\n",
    "```\n",
    "_________________________________________________\n",
    "For Example:\n",
    "\n",
    "for index in range(0, 5):\n",
    "    user_input = input(\"Entry\" + index + 1)\n",
    "\n",
    "This would cause a compiler error\n",
    "_________________________________________________\n",
    "Correct use of concatenation:\n",
    "\n",
    "for index in range(0, 5):\n",
    "    user_input = input(\"Entry \" + str(index + 1))\n",
    "_________________________________________________\n",
    "You need to wrap whatever is **NOT A VARIABLE** in quotes,\n",
    "as well as convert the variable into a string\n",
    "since concatenation only works between strings,\n",
    "and mathematical operations only work between floats and ints.\n",
    "Notice how we performed the mathematical operation inside of the \n",
    "Parenthesis, which addresses both of these problems\n",
    "_________________________________________________\n",
    "```\n",
    "\n",
    "*   #### Secondly, be careful about where you place your return statements! I know I have made the mistake many times of having my return statement inside of a for-loop. If your return statement remains within the for loop, you will return the variable during the first iteration. Meaning, you would only get **1** entry into the list, given our example problem. Avoid this by keeping your return statement in the FIRST level of indentation unless what you want to return involves conditional statements. We can cover some examples of that later. (See Example Probelm 8)\n",
    "_________________________________________________\n",
    "\n"
   ]
  },
  {
   "cell_type": "code",
   "execution_count": 166,
   "metadata": {
    "colab": {
     "base_uri": "https://localhost:8080/"
    },
    "id": "fQg4QhRGbhgj",
    "outputId": "7084b90b-9c35-43aa-f077-4ff8a5c1646f"
   },
   "outputs": [
    {
     "name": "stdout",
     "output_type": "stream",
     "text": [
      "Entry 1\n",
      "Entry 2\n",
      "Entry 3\n",
      "Entry 4\n",
      "Entry 5\n"
     ]
    }
   ],
   "source": [
    "# Code similar to our solution to Example Problem 3, \n",
    "# but using concatenation instead to simply print\n",
    "# a combination of a string and our index variable given a range.\n",
    "for index in range(0, 5):\n",
    "    print(\"Entry \" + str(index + 1))"
   ]
  },
  {
   "cell_type": "markdown",
   "metadata": {
    "id": "e4GPVLjWfRsE"
   },
   "source": [
    "_________________________________________________\n",
    "## *Example Problem 4:* Create a function that takes a list, and returns a dictionary where the keys are indexes that start from 0.\n",
    "_________________________________________________\n",
    "### *Additional Topics:* *Lists Review, Dictionaries Review, Functions Review, the Usage of F-strings, and the Usage of Enumerate*\n",
    "_________________________________________________"
   ]
  },
  {
   "cell_type": "code",
   "execution_count": 167,
   "metadata": {
    "id": "7HdEwSEiamDN"
   },
   "outputs": [],
   "source": [
    "def list_to_dict(list_variable):\n",
    "    # Initialize our dictionary variable\n",
    "    new_dict = {} # This gives us access to all of the functionality of dicts\n",
    "\n",
    "    # Enumerate automatically generates an integer index that corresponds to each\n",
    "    # item in whatever list we pass to enumerate. Note that these start at 0. \n",
    "    for index, item in enumerate(list_variable):\n",
    "\n",
    "         # this is an example of how to save items to a dictionary\n",
    "         # dictionary_name[key] = value\n",
    "         new_dict[index + 1] = item\n",
    "  \n",
    "    # Return the dictionary OUTSIDE of the for-loop\n",
    "    return new_dict"
   ]
  },
  {
   "cell_type": "markdown",
   "metadata": {
    "id": "nDSytML_puYf"
   },
   "source": [
    "_________________________________________________\n",
    "### *Let's run some tests to get hands on experience*\n",
    "_________________________________________________"
   ]
  },
  {
   "cell_type": "code",
   "execution_count": 168,
   "metadata": {
    "colab": {
     "base_uri": "https://localhost:8080/"
    },
    "id": "0Qrm0SHQhoUs",
    "outputId": "0736bfcc-e4f0-4595-96cd-c1294a55cb87"
   },
   "outputs": [
    {
     "name": "stdout",
     "output_type": "stream",
     "text": [
      "{1: 'Python is a popular language for web and software development', 2: 'because you can create complex, multi-protocol applications while maintaining concise, readable syntax.', 3: 'In fact, some of the most popular applications were built with Python.', 4: 'Plus, Python’s open source community provides developers', 5: 'with an extensive amount of reusable code, frameworks, and support.'}\n"
     ]
    }
   ],
   "source": [
    "# Print the dictionary **object**\n",
    "\n",
    "user_dictionary = list_to_dict(list_variable = user_list)\n",
    "print(user_dictionary)"
   ]
  },
  {
   "cell_type": "code",
   "execution_count": 169,
   "metadata": {
    "colab": {
     "base_uri": "https://localhost:8080/"
    },
    "id": "a2y6duErk2tS",
    "outputId": "efb2765b-b4bd-40d5-dbe9-5124e859495f"
   },
   "outputs": [
    {
     "name": "stdout",
     "output_type": "stream",
     "text": [
      "Python is a popular language for web and software development\n"
     ]
    }
   ],
   "source": [
    "print(user_dictionary[1])"
   ]
  },
  {
   "cell_type": "markdown",
   "metadata": {
    "id": "l7L9jmRlkHjs"
   },
   "source": [
    "_________________________________________________\n",
    "#### *Rachel's Notes:* \n",
    "* #### Remember that dictionaries are an object that has \"key-value pairs\" whose connection is denoted by a colon, and each entry is separated by a comma. There are special methods for dictionaries as well as unique properties we must take into account when using them to solve problems.\n",
    "\n",
    "\n",
    "```\n",
    "____________________________________________________________________\n",
    "For example:\n",
    "\n",
    "example_dict = {\"key_1\": \"value_1\", \"key_2\": \"value_2\"}\n",
    "____________________________________________________________________\n",
    "```\n",
    "* #### Note that we can index values by providing one of the keys present in the dictionary within square brackets after the variable name.\n",
    "\n",
    "\n",
    "```\n",
    "____________________________________________________________________\n",
    "For example:\n",
    "\n",
    "print(example_dict[\"key_2\"])\n",
    "____________________________________________________________________\n",
    "Output:\n",
    "\n",
    "value_2\n",
    "____________________________________________________________________\n",
    "\n",
    "```\n",
    "\n",
    "* #### You may have noticed that in these two examples, we have used strings for both the key and the value. And that conversely, we used an integer for the keys in our function above. Remember that whatever you use is okay, just remember what type of variable that the keys are when you want to access a speciic index with them.\n",
    "\n",
    "```\n",
    "____________________________________________________________________\n",
    "For example:\n",
    "\n",
    "example_dict_2 = {1: \"one\", 2: \"two\", 3: \"three\"}\n",
    "\n",
    "print(example_dict_2[1])\n",
    "____________________________________________________________________\n",
    "Output:\n",
    "\n",
    "one\n",
    "____________________________________________________________________\n",
    "Be Careful! Given example_dict_2, the code below are examples \n",
    "of common mistakes that would cause errors:\n",
    "\n",
    "print(example_dict_1[0]) # Since 0 is not a key present in the dict\n",
    "\n",
    "print(example_dict_1[\"1\"]) # Since the key, 1, is not a string\n",
    "```\n",
    "\n"
   ]
  },
  {
   "cell_type": "markdown",
   "metadata": {
    "id": "JN0t2EWxooWh"
   },
   "source": [
    "_________________________________________________\n",
    "#### *Recognize the similarity between a list **object** a dictionary **object**. Remember that python's native objects such as lists and dicts have their own set of unique methods. Think of .append() for lists, or .split() for strings. We will cover a few of the important methods for dictionaries.*\n",
    "\n",
    "#### **The most important dictionary methods to know are those that are nessecary to properly iterate through a dictionary's contents. Note that without these methods, using a normal for-loop to iterate through a dictionary would cause compiler errors.**\n",
    "\n",
    "_________________________________________________"
   ]
  },
  {
   "cell_type": "code",
   "execution_count": 170,
   "metadata": {
    "colab": {
     "base_uri": "https://localhost:8080/"
    },
    "id": "ABKvF_knh2k8",
    "outputId": "cb65a2ec-4476-4451-98b6-50112b09078d"
   },
   "outputs": [
    {
     "name": "stdout",
     "output_type": "stream",
     "text": [
      "Key: 1  Value: Python is a popular language for web and software development\n",
      "Key: 2  Value: because you can create complex, multi-protocol applications while maintaining concise, readable syntax.\n",
      "Key: 3  Value: In fact, some of the most popular applications were built with Python.\n",
      "Key: 4  Value: Plus, Python’s open source community provides developers\n",
      "Key: 5  Value: with an extensive amount of reusable code, frameworks, and support.\n"
     ]
    }
   ],
   "source": [
    "# Iterate through the loop with access to the keys and values\n",
    "for key, value in user_dictionary.items():\n",
    "    print(f\"Key: {key}  Value: {value}\")"
   ]
  },
  {
   "cell_type": "code",
   "execution_count": 171,
   "metadata": {
    "colab": {
     "base_uri": "https://localhost:8080/"
    },
    "id": "YHquuMMYiuJT",
    "outputId": "2afa13bd-2fe4-4aac-d4fe-481e82985948"
   },
   "outputs": [
    {
     "name": "stdout",
     "output_type": "stream",
     "text": [
      "Key: 1\n",
      "Key: 2\n",
      "Key: 3\n",
      "Key: 4\n",
      "Key: 5\n"
     ]
    }
   ],
   "source": [
    "# Iterate through the loop with access to just the keys\n",
    "for key in user_dictionary.keys():\n",
    "    print(f\"Key: {key}\")"
   ]
  },
  {
   "cell_type": "code",
   "execution_count": 172,
   "metadata": {
    "colab": {
     "base_uri": "https://localhost:8080/"
    },
    "id": "bKPumD_fpleO",
    "outputId": "8c0c551a-d925-42fc-e2a8-c8665d7df2ce"
   },
   "outputs": [
    {
     "name": "stdout",
     "output_type": "stream",
     "text": [
      "Value: Python is a popular language for web and software development\n",
      "Value: because you can create complex, multi-protocol applications while maintaining concise, readable syntax.\n",
      "Value: In fact, some of the most popular applications were built with Python.\n",
      "Value: Plus, Python’s open source community provides developers\n",
      "Value: with an extensive amount of reusable code, frameworks, and support.\n"
     ]
    }
   ],
   "source": [
    "# Iterate through the loop with access to just the values\n",
    "for value in user_dictionary.values():\n",
    "    print(f\"Value: {value}\")"
   ]
  },
  {
   "cell_type": "markdown",
   "metadata": {
    "id": "54NURd0TqMYx"
   },
   "source": [
    "_________________________________________________\n",
    "##### *Notice the use of f-strings*\n",
    "_________________________________________________"
   ]
  },
  {
   "cell_type": "markdown",
   "metadata": {
    "id": "Rg6X8TFkqU2P"
   },
   "source": [
    "_________________________________________________\n",
    "### **Example Problem 5:** Now, what if we want to alter the dictionary? Make a function that takes a dictionary as parameter, multiplies each of the keys by 2, and then adds a \"/\" at the beginning of each of the values. Finally, the function must return a list containing the updated keys so we have the updated indicies, as well as a dictionary consisting of the updated key-value pairs.\n",
    "_________________________________________________\n",
    "### *Additional Topics:* *Dictionaries Review Functions Review, and the Usage of F-strings.*\n",
    "_________________________________________________"
   ]
  },
  {
   "cell_type": "code",
   "execution_count": 173,
   "metadata": {
    "id": "-m-odSh-pq5f"
   },
   "outputs": [],
   "source": [
    "def alter_dict(dictionary_variable):\n",
    "    # Initialize the variables\n",
    "    altered_dict = {}\n",
    "    index_list = []\n",
    "    value_list = []\n",
    "\n",
    "    # Create a for-loop who's index is the same as our numbered keys\n",
    "    for index in range(1, 6):\n",
    "\n",
    "        # Since the index is the same as our keys, we can \n",
    "        # simply append the index * 2\n",
    "        index_list.append(index * 2)\n",
    "\n",
    "        # Extracts the value corresponding the index of each \n",
    "        # iteration, and adds a / at the beginning of the string\n",
    "        value_list.append(f\"/{dictionary_variable[index]}\")\n",
    "  \n",
    "    # Combine the two lists into a dictionary\n",
    "    altered_dict = dict(zip(index_list, value_list))\n",
    "\n",
    "    # We can return more than one value, however, if you do so, you must also\n",
    "    # provide two variables when you call the function\n",
    "    return altered_dict, index_list"
   ]
  },
  {
   "cell_type": "markdown",
   "metadata": {
    "id": "MhPmFE8ZMdjH"
   },
   "source": [
    "_________________________________________________\n",
    "#### *Testing the code*\n",
    "_________________________________________________"
   ]
  },
  {
   "cell_type": "code",
   "execution_count": 174,
   "metadata": {
    "id": "l2by0ZdNIQbT"
   },
   "outputs": [],
   "source": [
    "# Call function with user defined dictionary and save to 2 variables\n",
    "user_dict_altered, new_indicies = alter_dict(dictionary_variable = user_dictionary)"
   ]
  },
  {
   "cell_type": "code",
   "execution_count": 177,
   "metadata": {
    "colab": {
     "base_uri": "https://localhost:8080/"
    },
    "id": "StlKjRgVIbL2",
    "outputId": "b23cb78b-9572-4482-95d5-e2f212938bd1"
   },
   "outputs": [
    {
     "name": "stdout",
     "output_type": "stream",
     "text": [
      "Our updated key-value pairs: \n",
      "\n",
      "2 : /Python is a popular language for web and software development\n",
      "4 : /because you can create complex, multi-protocol applications while maintaining concise, readable syntax.\n",
      "6 : /In fact, some of the most popular applications were built with Python.\n",
      "8 : /Plus, Python’s open source community provides developers\n",
      "10 : /with an extensive amount of reusable code, frameworks, and support.\n",
      "_________________________________\n",
      "\n",
      "New indicies:\n",
      "\n",
      "[2, 4, 6, 8, 10]\n"
     ]
    }
   ],
   "source": [
    "# Print our updated dictionary\n",
    "print(\"Our updated key-value pairs: \\n\")\n",
    "for key, value in user_dict_altered.items():\n",
    "    print(f\"{key} : {value}\")\n",
    "\n",
    "print(\"_________________________________\")\n",
    "# Print our updated indicies\n",
    "print(\"\\nNew indicies:\\n\")\n",
    "print(new_indicies)"
   ]
  },
  {
   "cell_type": "markdown",
   "metadata": {
    "id": "HCg1bDStJQS3"
   },
   "source": [
    "_________________________________________________\n",
    "#### *Rachel's Notes:* Notice here that we are using another one of Python's built in functions called \"zip\", and we forced a type change to a dictionary with \"dict\" as we have done with other datatypes. \n",
    "\n",
    "\n",
    "*   #### The zip() function takes \"iterables\" (think lists, for our example), then creates a list of tuples using the entries of both lists, where each index has a tuple that contains the entries of both list with matching indicies.\n",
    "    * #### This is helpful for us, because one of the datatypes allow for the dict() function, is a list of tuples with 2 values.\n",
    "*   #### The dict() function then, takes that list of tuples, and changes the first tuple item for each index into the key, and the second tuple iem for each index into the value.\n",
    "*   #### You may have noticed that, in this function, we returned 2 values instead of just one. Theoretically, we can return as many as we want, as long as we provide as many variables as there are values we are returning.\n",
    "    * #### I'm sure this is a touch confusing, but the truth is that it is rather straightforward. Your return values need to get saved to something. Hence, we need 2 variables. \n",
    "    * #### Also, the values returned will be in the order defined\n",
    "\n",
    "\n",
    "``` \n",
    "_________________________________________________\n",
    "Given the return statement we used above:\n",
    "\n",
    "return altered_dict, index_list\n",
    "\n",
    "**We have to use the same order with our new variables separated by a comma.**\n",
    "_________________________________________________\n",
    "If we call our function with the variables in not in the same order:\n",
    "\n",
    "new_indicies, user_dict_altered = alter_dict(dictionary_variable = user_dictionary)\n",
    "\n",
    "**We would save the altered dict to new_indicies and index_list to user_dict_altered.**\n",
    "_________________________________________________\n",
    "```\n",
    "_________________________________________________\n",
    "\n",
    "\n",
    "\n",
    "#### ***Side note:* Although it never hurts to be safe, I doubt you would get asked to change the keys, or return multiple values in a function on the quizzes, but I wanted to be sure to cover this subject, as it is an important concept in my opinion.**\n",
    "\n",
    "### *That being said,* I do think that altering values of each key-value pair would be on the table. \n",
    "_______________________________________________\n"
   ]
  },
  {
   "cell_type": "markdown",
   "metadata": {
    "id": "C4aDJrhqdIbC"
   },
   "source": [
    "_________________________________________________\n",
    "## *Example Problem 6:* Given that you most likely won't need to edit the keys, or return mutliple values, in the code example below, I'm going to edit our function to just modify the values of the dictionary and return only the updated version of the dictionary.\n",
    "_________________________________________________\n",
    "### *Additional Topics:* *Dictionaries Review Functions Review, and the Usage of F-strings.*\n",
    "_________________________________________________"
   ]
  },
  {
   "cell_type": "code",
   "execution_count": 178,
   "metadata": {
    "id": "5ORB4vH9Iel3"
   },
   "outputs": [],
   "source": [
    "def alter_dict_2(dictionary_variable):\n",
    "    # Initialize the variables\n",
    "\n",
    "    # Create a for-loop who's index is the same as our numbered keys\n",
    "    for index in range(1, 6):\n",
    "\n",
    "      # Alters the value by replacing the current string of each index's value \n",
    "      # with a / added to the front by using an f'string\n",
    "      dictionary_variable[index] = f\"/{dictionary_variable[index]}\"\n",
    "  \n",
    "    # Return the updated dictionary\n",
    "    return dictionary_variable"
   ]
  },
  {
   "cell_type": "code",
   "execution_count": 179,
   "metadata": {
    "id": "i2qtn2kIP0-X"
   },
   "outputs": [],
   "source": [
    "user_dict_altered_2 = alter_dict_2(dictionary_variable = user_dictionary)"
   ]
  },
  {
   "cell_type": "code",
   "execution_count": 180,
   "metadata": {
    "colab": {
     "base_uri": "https://localhost:8080/"
    },
    "id": "RYh79lGNP7aq",
    "outputId": "89698a8a-49bc-47bc-9534-ec927d56caf6"
   },
   "outputs": [
    {
     "name": "stdout",
     "output_type": "stream",
     "text": [
      "Our updated key-value pairs: \n",
      "\n",
      "1 : /Python is a popular language for web and software development\n",
      "2 : /because you can create complex, multi-protocol applications while maintaining concise, readable syntax.\n",
      "3 : /In fact, some of the most popular applications were built with Python.\n",
      "4 : /Plus, Python’s open source community provides developers\n",
      "5 : /with an extensive amount of reusable code, frameworks, and support.\n"
     ]
    }
   ],
   "source": [
    "# Print our updated dictionary\n",
    "print(\"Our updated key-value pairs: \\n\")\n",
    "for key, value in user_dict_altered_2.items():\n",
    "    print(f\"{key} : {value}\")"
   ]
  },
  {
   "cell_type": "markdown",
   "metadata": {
    "id": "WuL8oratQEfB"
   },
   "source": [
    "_________________________________________________\n",
    "## **Example Problem 7:** Since we are reusing this code a lot, why don't we function that prints out the key value pairs with the nice little print statement at the top? it would be rather easy for us to do! This is a great example of when a creating a function is useful for us. Instead of having to write that code out again or copy paste it, we can simply call the function\n",
    "_________________________________________________\n",
    "### *Additional Topics: Dictionaries Review, Functions Review, and the Usage of F-Strings.*\n",
    "_________________________________________________"
   ]
  },
  {
   "cell_type": "code",
   "execution_count": 181,
   "metadata": {
    "id": "SnuNeEnHP954"
   },
   "outputs": [],
   "source": [
    "# Print an updated dictionary\n",
    "def print_dict_contents(dictionary_variable):\n",
    "    print(\"Our updated key-value pairs: \\n\")\n",
    "    for key, value in dictionary_variable.items():\n",
    "        print(f\"{key} : {value}\")"
   ]
  },
  {
   "cell_type": "code",
   "execution_count": 182,
   "metadata": {
    "colab": {
     "base_uri": "https://localhost:8080/"
    },
    "id": "GYPoTVxbRm8j",
    "outputId": "39abf023-2df4-4a1a-9cfe-cd2c5038d8ca"
   },
   "outputs": [
    {
     "name": "stdout",
     "output_type": "stream",
     "text": [
      "Our updated key-value pairs: \n",
      "\n",
      "1 : /Python is a popular language for web and software development\n",
      "2 : /because you can create complex, multi-protocol applications while maintaining concise, readable syntax.\n",
      "3 : /In fact, some of the most popular applications were built with Python.\n",
      "4 : /Plus, Python’s open source community provides developers\n",
      "5 : /with an extensive amount of reusable code, frameworks, and support.\n"
     ]
    }
   ],
   "source": [
    "print_dict_contents(user_dict_altered_2)"
   ]
  },
  {
   "cell_type": "markdown",
   "metadata": {
    "id": "Nu3GdkSVUGaQ"
   },
   "source": [
    "_________________________________________________\n",
    "#### *Notice that all it took was for us to define a function with a parameter, and than use the parameter's name as a variable inside of the function instead of some hard-coded, specific variable. Now we can use it for anything, for example, in a main function.*\n",
    "_________________________________________________"
   ]
  },
  {
   "cell_type": "markdown",
   "metadata": {
    "id": "Y00ER-seUGL3"
   },
   "source": [
    "_________________________________________________\n",
    "### *Example Problem 8:* write a function that will save a dictionary to a file that is named by the user. Use a conditional statement that requires the user to not use any spaces, and only to use underscores instead. if the user provides an answer with any spaces, print an error message and try again. I also want you to return the user's chosen title, with .txt added to the end to be able to use it in a function to print the file's contents.\n",
    "_________________________________________________\n",
    "### *Additional Topics:* *While Loops Review, Dictionaries Review, Conditionals Review, Functions Review, Strings Review, and the Usage of F-strings.*\n",
    "_________________________________________________"
   ]
  },
  {
   "cell_type": "code",
   "execution_count": 183,
   "metadata": {
    "id": "7Rg9XNfYVVlJ"
   },
   "outputs": [],
   "source": [
    "def dict_to_txt(dictionary_variable):\n",
    "    # Define a variable to use for our while loop\n",
    "    end = False\n",
    "\n",
    "    # Let user know the rules\n",
    "    print(\"\\n\\nProvide a title for the .txt file.\")\n",
    "    print(\"You must use underscores instead of spaces.\")\n",
    "\n",
    "    # Intialize while loop to keep running the code as long as \n",
    "    # end == False\n",
    "    while (end == False):\n",
    "      \n",
    "        # Take the users input **INSIDE** of the loop\n",
    "        user_defined_title = input(\"\\nEnter the title here: \")\n",
    "\n",
    "        # We can check to see if a certain character is contained within a string\n",
    "        # in our case, we want to check for a space\n",
    "        if \" \" in user_defined_title:\n",
    "            print(\"\\nError: Please use underscores instead of spaces.\\n\")\n",
    "            # By leaving the \"end\" variable alone, the loop will now restart\n",
    "\n",
    "        # Unless, there are no spaces in the user's title, write to the file\n",
    "        else:\n",
    "            # Create a file named by the user with an F-string, and \"w\"\n",
    "            with open(f\"{user_defined_title}.txt\", \"w\") as f:\n",
    "          \n",
    "                # Use a .items() with 2 index for = loop to acess keys and values\n",
    "                for key, value in dictionary_variable.items():\n",
    "\n",
    "            # Write each pair into the file\n",
    "            f.write(f\"{key}:{value}\\n\")\n",
    "\n",
    "          # Now, we are going to return the user's title including.txt\n",
    "          # with an F-String\n",
    "          return f\"{user_defined_title}.txt\"\n",
    "\n",
    "          # Then, by setting end == True, we end the while loop, since the \n",
    "          # condition is to continue while (end == False), and end the function\n",
    "          end == True"
   ]
  },
  {
   "cell_type": "markdown",
   "metadata": {
    "id": "cVFjQRPPZWwl"
   },
   "source": [
    "_________________________________________________\n",
    "#### *Rachel's Notes:* There is a lot going on in this function that is combining a lot of what we have been learning over the past few sessions, and has come full circle to writing data to a file. \n",
    "*   #### Since we want our code to keep running as long as a certain condition is not met, it is best to use a while loop.\n",
    "    * #### The way that I like to use while loops is to create some kind of boolean variable and use that as the parameter of the while function\n",
    "    * #### Since the loop will keep running as long as the \"end\" variable stays the same, we can create an if else block to handle the condition of requiring underscores.\n",
    "    * #### First, we check for any spaces in the user's string. If there are, we print an error message, and since we don't do anything to the \"end\" variable, we will go back to the start of the while loop\n",
    "    * #### Then, if there are no spaces within the user's string, we save the data from the dictionary to the .txt file, and then set the \"end\" variable to be the opposite boolean value, and our loop will end.\n",
    "    * #### **BEWARE OF INFINITE LOOPS:** It is important to get the user's input inside of the loop, since we need to get a new variable if the user breaks the rule. Also, we would get an infinite loop if the input were outside of the while loop, since we are unable to update the variable causing the issue.\n",
    "*   #### Here, we have used again the .items() dictionary method to iterate through our dictionary and retrieve both the keys and the values to write to our .txt file. Since we have the two variables, key and value, for each iteration, we need to use an f-string or concatenation to combine them and include a new line character when we go to write to the file.\n",
    "*   #### And this time, since we want to create a new .txt file, we use the \"w\" parameter in our with open statement. \n",
    "*   #### Notice as well how we use an f-string in our return statement so that the value being returned is a string that contains .txt at the end, so we can use it to open the file later.\n",
    "_________________________________________________"
   ]
  },
  {
   "cell_type": "markdown",
   "metadata": {
    "id": "7JHJq8uTR5S6"
   },
   "source": [
    "## *Example Problem 9:* Write a main function that includes all of the following steps.\n",
    "1.   ### Use the function from Example Problem 3 to create a list populated with user-defined strings.\n",
    "2.   ### Transform that list into a dictionary with keys numbered from 1-5 using the function from Example Problem 4\n",
    "3.   ### Edit the values of the dictionary to include a \"/\" at the beginning of each string using the function from Example Problem 6.\n",
    "4.   ### Print the values of the updated dictionary using the function from Example Problem 7.\n",
    "5.   ### Save the dictionary to a .txt file line by line using Example Problem 8.\n",
    "6.   ### Print the contents of our new .txt file line by line using the function from Pracice Problem 3 to check for success.\n",
    "_________________________________________________\n",
    "### *Additional Topics: Functions Review.*\n",
    "_________________________________________________\n",
    "\n"
   ]
  },
  {
   "cell_type": "code",
   "execution_count": 184,
   "metadata": {
    "id": "oLfamD2wRxJx"
   },
   "outputs": [],
   "source": [
    "def main():\n",
    "  # Run all of our functions, using the outputs as the inputs in other\n",
    "  # Functions in a way the meets the requirements of the steps provided above.\n",
    "  user_list = create_list_of_strings()\n",
    "  user_dict = list_to_dict(user_list)\n",
    "  altered_user_dict = alter_dict_2(user_dict)\n",
    "  print_dict_contents(altered_user_dict)\n",
    "  user_title = dict_to_txt(altered_user_dict)\n",
    "  print_file_lines(user_title)"
   ]
  },
  {
   "cell_type": "code",
   "execution_count": 185,
   "metadata": {
    "colab": {
     "base_uri": "https://localhost:8080/"
    },
    "id": "hPYR9CrqhqCE",
    "outputId": "f54b85c1-d947-4928-eacd-0eb275a8fe71"
   },
   "outputs": [
    {
     "name": "stdout",
     "output_type": "stream",
     "text": [
      "Entry 1: One of Python’s key benefits is its ability to automate manual, repetitive tasks.\n",
      "Entry 2: With Python, you can learn how to automate just about anything by using either built-in modules or pre-written code from its robust library. \n",
      "Entry 3: Or you can write your own custom scripts to perform specific actions. \n",
      "Entry 4: Here’s a fun fact: Python is the top preferred language for data science and research.\n",
      "Entry 5: Python can also be found in some of the most complex, artificial intelligence (AI) technologies—and it’s actually one of the preferred languages for AI.\n",
      "Our updated key-value pairs: \n",
      "\n",
      "1 : /One of Python’s key benefits is its ability to automate manual, repetitive tasks.\n",
      "2 : /With Python, you can learn how to automate just about anything by using either built-in modules or pre-written code from its robust library. \n",
      "3 : /Or you can write your own custom scripts to perform specific actions. \n",
      "4 : /Here’s a fun fact: Python is the top preferred language for data science and research.\n",
      "5 : /Python can also be found in some of the most complex, artificial intelligence (AI) technologies—and it’s actually one of the preferred languages for AI.\n",
      "\n",
      "\n",
      "Provide a title for the .txt file.\n",
      "You must use underscores instead of spaces.\n",
      "\n",
      "Enter the title here: python facts\n",
      "\n",
      "Error: Please use underscores instead of spaces.\n",
      "\n",
      "\n",
      "Enter the title here: python_facts\n",
      "1:/One of Python’s key benefits is its ability to automate manual, repetitive tasks.\n",
      "\n",
      "2:/With Python, you can learn how to automate just about anything by using either built-in modules or pre-written code from its robust library. \n",
      "\n",
      "3:/Or you can write your own custom scripts to perform specific actions. \n",
      "\n",
      "4:/Here’s a fun fact: Python is the top preferred language for data science and research.\n",
      "\n",
      "5:/Python can also be found in some of the most complex, artificial intelligence (AI) technologies—and it’s actually one of the preferred languages for AI.\n",
      "\n"
     ]
    }
   ],
   "source": [
    "main()"
   ]
  },
  {
   "cell_type": "markdown",
   "metadata": {
    "id": "WzAJqfSnq41V"
   },
   "source": [
    "________________________________________________________________________________\n",
    "#### *Rachel's Notes:* Since we have already created a bunch of useful functions, we were able to take a modular approach to programming, re-using code that we have already written, and in doing so highlighting the utility of creating and working with functions. \n",
    "________________________________________________________________________________"
   ]
  },
  {
   "cell_type": "markdown",
   "metadata": {
    "id": "TZZ7xu7ervPR"
   },
   "source": [
    "________________________________________________________________________________\n",
    "## **Example Problem 10:** Bonus Round\n",
    "## *Requirements:*\n",
    "1. ## Create a function that takes a pre-defined list of strings as an input.\n",
    "\n",
    "2. ## Iterate through the predefined list and perform the following actions:\n",
    "    * ## First, split each string using spaces (\" \") as the delimiter\n",
    "    * ## Then, using split as an iteratable object, append separately eveything except for the first character, and then everything except for the last character to a new list. \n",
    "3. ## Next, iterate through the new list and check if the index is even or odd:\n",
    "     * ## If even: change the list item to include all of the characters after the 2nd charater of each string in the list\n",
    "     * ## If odd: chane the list item to include all of the characters before the 3rd character of each string in the list. \n",
    "4. ## **Don't include any spaces (\" \") or empty spaces (\"\").**\n",
    "5. ## Finally, return the newly updated list.\n",
    "\n",
    "________________________________________________________________________________\n",
    "### *Additional Topics Covered: Functions Review, Strings Review, Lists Review, and Indexing Review for both Strings and Lists.*\n",
    "________________________________________________________________________________"
   ]
  },
  {
   "cell_type": "code",
   "execution_count": 265,
   "metadata": {
    "id": "aiCeYe-6jkdj"
   },
   "outputs": [],
   "source": [
    "la_fun_facts = [\n",
    "    'The iconic Hollywood sign originally read “Hollywoodland”',\n",
    "    \"LA residents spend over 100 hours in traffic on average each year\",\n",
    "    \"Los Angeles is home to the only solar-powered Ferris wheel\",\n",
    "    \"Those iconic LA palm trees were actually imported\",\n",
    "    '''The original name for Los Angeles was \n",
    "    “El Pueblo de Nuestra Señora la Reina de los Ángeles de Porciúncula”''',\n",
    "    \"Hollywood wasn’t always the entertainment capital\",\n",
    "    \"Los Angeles was one of the largest oil producers\",\n",
    "    \"LA has hosted the Summer Olympics twice\",\n",
    "    \"UCLA is the birthplace of the internet\",\n",
    "    \"Los Angeles is home to many private, members-only clubs\"\n",
    "]"
   ]
  },
  {
   "cell_type": "code",
   "execution_count": 299,
   "metadata": {
    "id": "Ra5ejM6it__d"
   },
   "outputs": [],
   "source": [
    "## Step 1\n",
    "def example_problem_10(list_variable):\n",
    "\n",
    "    ## Step 2\n",
    "    # Create a placeholder list for step 2\n",
    "    placeholder_list_1 = []\n",
    "    # Iterate through each item in our fun facts list\n",
    "    for item in list_variable:\n",
    "        # use split.() to separate each sentence by the space between words\n",
    "        # and iterate through each word\n",
    "        for word in item.split(\" \"):\n",
    "            # For each of those words, strip away leading or trailing space\n",
    "            word = word.strip()\n",
    "            # Append everything after the first character\n",
    "            placeholder_list_1.append(word[1:])\n",
    "            # Append everything before the last character\n",
    "            placeholder_list_1.append(word[:-1])\n",
    "\n",
    "    ## Step 3\n",
    "    # Create a placeholder list for step 3\n",
    "    placeholder_list_2 = []\n",
    "    # Use enumerate to create an iterable that provides both an index that we\n",
    "    # can use in mathematical expressions and gives us access to each list item\n",
    "    for index, word in enumerate(placeholder_list_1):\n",
    "          # Check for first to see if its odd\n",
    "          if index % 2 != 0:\n",
    "              placeholder_list_2.append(word[3:])\n",
    "          # Only other condition possible is even\n",
    "          else:\n",
    "              placeholder_list_2.append(word[:3])\n",
    "\n",
    "    # Step 4\n",
    "    # Create a placeholder list for step 4\n",
    "    return_list = []\n",
    "    # Iterate through the newest list \n",
    "    for word in placeholder_list_2:\n",
    "        # Checks to see if a character has no empty space\n",
    "        if word.strip():\n",
    "            # Appends to final list if and only if word is not a \" \" or \"\"\n",
    "            return_list.append(word)\n",
    "\n",
    "    # Step 5\n",
    "    return return_list"
   ]
  },
  {
   "cell_type": "code",
   "execution_count": 300,
   "metadata": {
    "id": "ReopTwZbv9Na"
   },
   "outputs": [],
   "source": [
    "altered_list = example_problem_10(la_fun_facts)"
   ]
  },
  {
   "cell_type": "code",
   "execution_count": 301,
   "metadata": {
    "colab": {
     "base_uri": "https://localhost:8080/"
    },
    "id": "bgFju9rNwCa6",
    "outputId": "772bc5d5-9db4-488a-a053-259858251d17"
   },
   "outputs": [
    {
     "name": "stdout",
     "output_type": "stream",
     "text": [
      "['he', 'con', 'ni', 'oll', 'lywoo', 'ign', 'rig', 'ginall', 'ead', 'Hol', 'llywoodland', 'A', 'esi', 'ident', 'pen', 'n', 'ver', '00', 'our', 'r', 'n', 'raf', 'ffi', 'n', 'ver', 'rag', 'ach', 'ear', 'os', 'nge', 'ele', 's', 'ome', 'o', 'he', 'nly', 'ola', 'ar-powere', 'err', 'ri', 'hee', 'e', 'hos', 's', 'con', 'ni', 'A', 'alm', 'ree', 'e', 'ere', 'ctu', 'uall', 'mpo', 'orte', 'he', 'rig', 'gina', 'ame', 'or', 'os', 'nge', 'ele', 'as', 'El', 'ueb', 'bl', 'e', 'ues', 'str', 'eño', 'or', 'a', 'ein', 'n', 'e', 'os', 'nge', 'ele', 'e', 'orc', 'ciúncula', 'oll', 'lywoo', 'asn', 'n’', 'lwa', 'ay', 'he', 'nte', 'ertainmen', 'api', 'ita', 'os', 'nge', 'ele', 'as', 'ne', 'f', 'he', 'arg', 'ges', 'il', 'rod', 'ducer', 'A', 'as', 'ost', 'te', 'he', 'umm', 'me', 'lym', 'mpic', 'wic', 'c', 'CLA', 's', 'he', 'irt', 'thplac', 'f', 'he', 'nte', 'erne', 'os', 'nge', 'ele', 's', 'ome', 'o', 'any', 'riv', 'vate', 'emb', 'bers-onl', 'lub', 'b']\n"
     ]
    }
   ],
   "source": [
    "print(altered_list)"
   ]
  },
  {
   "cell_type": "markdown",
   "metadata": {
    "id": "jONxsRkB6qcu"
   },
   "source": [
    "________________________________________________________________________________\n",
    "## *Rachel's Notes:\" I did my best to create a problem that blended examples of how to index and alter individual items in a list, slicing and indexing strings, how to use string methods as conditions, using enumerate to solve our to create an index variable for our lists inside of a for-loop, as well use cases for a few string methods such as .split() and .strip().\n",
    "________________________________________________________________________________"
   ]
  },
  {
   "cell_type": "markdown",
   "metadata": {
    "id": "9_zG0e417eeL"
   },
   "source": [
    "________________________________________________________________________________\n",
    "# I hope that you found all of these examples to be useful study tools for the current material, as well as useful review given all material covered in the course thus far.\n",
    "________________________________________________________________________________"
   ]
  }
 ],
 "metadata": {
  "colab": {
   "authorship_tag": "ABX9TyNu8d2ZZr35sxXuzNTBmYu3",
   "provenance": []
  },
  "kernelspec": {
   "display_name": "Python 3 (ipykernel)",
   "language": "python",
   "name": "python3"
  },
  "language_info": {
   "codemirror_mode": {
    "name": "ipython",
    "version": 3
   },
   "file_extension": ".py",
   "mimetype": "text/x-python",
   "name": "python",
   "nbconvert_exporter": "python",
   "pygments_lexer": "ipython3",
   "version": "3.9.13"
  }
 },
 "nbformat": 4,
 "nbformat_minor": 4
}
